{
  "nbformat": 4,
  "nbformat_minor": 0,
  "metadata": {
    "colab": {
      "private_outputs": true,
      "provenance": [],
      "authorship_tag": "ABX9TyPGzHHU51JZHB5YZMkZZRz0",
      "include_colab_link": true
    },
    "kernelspec": {
      "name": "python3",
      "display_name": "Python 3"
    },
    "language_info": {
      "name": "python"
    }
  },
  "cells": [
    {
      "cell_type": "markdown",
      "metadata": {
        "id": "view-in-github",
        "colab_type": "text"
      },
      "source": [
        "<a href=\"https://colab.research.google.com/github/Seoyun0626/2023_lab_Improving-Location-Accuracy/blob/main/%ED%84%B0%EB%84%90%EC%98%88%EC%B8%A1%EA%B0%92_%EC%98%A4%EC%B0%A8%EC%A0%80%EC%9E%A5.ipynb\" target=\"_parent\"><img src=\"https://colab.research.google.com/assets/colab-badge.svg\" alt=\"Open In Colab\"/></a>"
      ]
    },
    {
      "cell_type": "code",
      "execution_count": null,
      "metadata": {
        "id": "-acxQRX2oGdH"
      },
      "outputs": [],
      "source": [
        "#구글 드라이브에 파일 올리고 불러오기\n",
        "\n",
        "from google.colab import drive\n",
        "drive.mount('/content/drive')"
      ]
    },
    {
      "cell_type": "code",
      "source": [
        "#데이터 불러오기\n",
        "\n",
        "#모듈 import\n",
        "import pandas as pd\n",
        "import numpy as np\n",
        "from xgboost import XGBRegressor\n",
        "from sklearn.model_selection import train_test_split\n",
        "from sklearn.metrics import accuracy_score, balanced_accuracy_score, roc_auc_score, make_scorer\n",
        "from sklearn.model_selection import GridSearchCV\n",
        "from sklearn.metrics import confusion_matrix\n",
        "from sklearn.metrics import ConfusionMatrixDisplay\n",
        "import matplotlib.pyplot as plt\n",
        "from datetime import datetime\n",
        "import datetime\n",
        "from sklearn.metrics import mean_squared_error\n",
        "\n",
        "import xgboost as xgb\n",
        "from xgboost import plot_importance\n",
        "import csv\n",
        "\n",
        "\n",
        "#예측해야하는 구간 직전까지의 data불럳오기\n",
        "data = pd.read_csv(\"/content/drive/MyDrive/인천 로그파일.txt\")\n",
        "data.head()"
      ],
      "metadata": {
        "id": "mI-qvMNaoSD1"
      },
      "execution_count": null,
      "outputs": []
    },
    {
      "cell_type": "code",
      "source": [
        "data = []\n",
        "with open('인천 로그파일.txt', 'r') as file:\n",
        "    for line in file:\n",
        "        if 'ALT' in line:\n",
        "            continue\n",
        "        line = line.strip().split(';')\n",
        "        date = line[0]\n",
        "        date = date[12:-9]\n",
        "        hour, minute, second = map(int, date.split(':'))\n",
        "        latitude = float(line[13])\n",
        "        longitude = float(line[14])\n",
        "        if longitude == -117.297160:\n",
        "            continue\n",
        "        speed = float(line[12])\n",
        "        time = hour * 3600 + minute * 60 + second  # 시간, 분, 초를 초로 변환\n",
        "        data.append([time, latitude, longitude, speed])\n",
        "df = pd.DataFrame(data, columns=['Time', 'Latitude', 'Longitude', 'Speed'])\n",
        "df.to_csv('original_data.csv', index=False)\n",
        "print(df)"
      ],
      "metadata": {
        "id": "-Bb23Yb_7YwM"
      },
      "execution_count": null,
      "outputs": []
    },
    {
      "cell_type": "code",
      "source": [
        "#데이터 분리 x : 시간, 위도, 속도, 경도 y : 위도, 경도\n",
        "\n",
        "X =df[['Time', 'Latitude', 'Longitude', 'Speed']]\n",
        "y_latitude = df['Latitude']\n",
        "y_longitude = df['Longitude']\n",
        "\n",
        "# XGBoost 회귀 모델을 초기화\n",
        "model_longitude = xgb.XGBRegressor()\n",
        "model_latitude = xgb.XGBRegressor()"
      ],
      "metadata": {
        "id": "Cp1upFUxo8Zk"
      },
      "execution_count": null,
      "outputs": []
    },
    {
      "cell_type": "code",
      "source": [
        "# 경도 모델 학습\n",
        "model_longitude.fit(X, y_longitude)\n",
        "\n",
        "# 위도 모델 학습\n",
        "model_latitude.fit(X, y_latitude)"
      ],
      "metadata": {
        "id": "X0jGuR6E0aeK"
      },
      "execution_count": null,
      "outputs": []
    },
    {
      "cell_type": "code",
      "source": [
        "#터널인가를 예측 부분\n",
        "\n",
        "ternaltime_pred = []\n",
        "cnt = 0\n",
        "ternaltime_pred = []\n",
        "\n",
        "# 데이터프레임을 순회하며 위도와 경도가 동일한 횟수를 세고, 5번 이상인 경우 첫 번째 시간을 저장\n",
        "for i in range(1, len(df)):\n",
        "    if df['Latitude'][i] == df['Latitude'][i - 1] and df['Longitude'][i] == df['Longitude'][i - 1]:\n",
        "        cnt += 1\n",
        "    else:\n",
        "        if cnt >= 5:\n",
        "           ternaltime_pred.append((df['Time'][i - cnt - 1], i - cnt + 1, i))\n",
        "           cnt =  0\n",
        "        else:\n",
        "            cnt = 0\n",
        "\n",
        "print(ternaltime_pred)\n"
      ],
      "metadata": {
        "id": "ecRxXO3weucP"
      },
      "execution_count": null,
      "outputs": []
    },
    {
      "cell_type": "code",
      "source": [
        "# 새로운 데이터프레임 생성을 위한 빈 리스트\n",
        "latitude_predictions = []\n",
        "longitude_predictions = []\n",
        "time_predictions = []\n",
        "latitude_errors = []\n",
        "longitude_errors = []\n",
        "# print(data)\n",
        "\n",
        "for i in range(len(ternaltime_pred)):\n",
        "    # print(ternaltime)\n",
        "    # 'Time' 열을 기준으로 해당 시간과 일치하는 행 추출\n",
        "    start_index = ternaltime_pred[i][1]  # 첫 번째 인덱스 가져오기\n",
        "    end_index = ternaltime_pred[i][2]\n",
        "    selected_data = df.loc[start_index - 7: start_index , ['Time', 'Latitude', 'Longitude', 'Speed']] # 예측값에 넣을 데이터 직전 관측값 10개\n",
        "    additional_data = df.loc[end_index : end_index + 1, ['Time', 'Latitude', 'Longitude', 'Speed']]\n",
        "    selected_data = pd.concat([selected_data, additional_data])\n",
        "    # print(selected_data)\n",
        "    predict_input = selected_data.values\n",
        "    # print(predict_input)\n",
        "    # print(predict_input)\n",
        "    for j in range(0,20):\n",
        "        predict_time = ternaltime_pred[i][0] + (j * 60)  # 예측 시간 계산 10초 단위로\n",
        "        # predict_time 대한 위도와 경도 예측값을 얻는 코드 (model_latitude, model_longitude를 사용)\n",
        "        pred_latitude = model_latitude.predict(predict_input)\n",
        "        pred_longitude = model_longitude.predict(predict_input)\n",
        "        time_predictions.append(predict_time)\n",
        "        pred_latitude = round(sum(pred_latitude) / (10 + j), 7)\n",
        "        pred_longitude = round(sum(pred_longitude) / (10 + j),7)\n",
        "        latitude_predictions.append(pred_latitude)\n",
        "        longitude_predictions.append(pred_longitude)\n",
        "        # print(pred_latitude, pred_longitude)\n",
        "        next_prediction_input = np.array([[predict_time, pred_latitude, pred_longitude, speed]])\n",
        "        predict_input = np.concatenate((predict_input, next_prediction_input), axis=0)\n",
        "        # print(predict_input)\n",
        "    # print(end_index)\n",
        "    # 실제값과 예측값의 차이 계산\n",
        "    latitude_error = df.iloc[end_index + 1][\"Latitude\"] - pred_latitude\n",
        "    longitude_error = df.iloc[end_index + 1][\"Longitude\"] - pred_longitude\n",
        "    print(latitude_error, longitude_error)\n",
        "\n",
        "    latitude_errors.append(latitude_error)\n",
        "    longitude_errors.append(longitude_error)\n",
        "    print(latitude_errors, longitude_errors)\n",
        "\n",
        "error_df = pd.DataFrame({'Latitude Error': latitude_errors, 'Longitude Error': longitude_errors})\n",
        "print(error_df)\n",
        "# 엑셀 파일로 저장\n",
        "error_df.to_excel('error_data_60.xlsx', index=False)\n",
        "\n",
        "\n",
        "# # 새로운 데이터프레임 생성\n",
        "# predictions_df = pd.DataFrame({'Latitude': latitude_predictions,\n",
        "#                                'Longitude': longitude_predictions,\n",
        "#                                'Time': time_predictions})\n",
        "\n",
        "\n",
        "# predictions_df.to_csv('prediction_result_20cnt_10predict.csv', index=False)"
      ],
      "metadata": {
        "id": "4OsoXXnE1_Vc"
      },
      "execution_count": null,
      "outputs": []
    }
  ]
}