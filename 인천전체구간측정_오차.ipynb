{
  "nbformat": 4,
  "nbformat_minor": 0,
  "metadata": {
    "colab": {
      "private_outputs": true,
      "provenance": [],
      "authorship_tag": "ABX9TyN9VsPmFusgtqdG6ot0JeoH",
      "include_colab_link": true
    },
    "kernelspec": {
      "name": "python3",
      "display_name": "Python 3"
    },
    "language_info": {
      "name": "python"
    }
  },
  "cells": [
    {
      "cell_type": "markdown",
      "metadata": {
        "id": "view-in-github",
        "colab_type": "text"
      },
      "source": [
        "<a href=\"https://colab.research.google.com/github/Seoyun0626/2023_lab_Improving-Location-Accuracy/blob/main/%EC%9D%B8%EC%B2%9C%EC%A0%84%EC%B2%B4%EA%B5%AC%EA%B0%84%EC%B8%A1%EC%A0%95_%EC%98%A4%EC%B0%A8.ipynb\" target=\"_parent\"><img src=\"https://colab.research.google.com/assets/colab-badge.svg\" alt=\"Open In Colab\"/></a>"
      ]
    },
    {
      "cell_type": "code",
      "execution_count": null,
      "metadata": {
        "id": "-acxQRX2oGdH"
      },
      "outputs": [],
      "source": [
        "#구글 드라이브에 파일 올리고 불러오기\n",
        "\n",
        "from google.colab import drive\n",
        "drive.mount('/content/drive')"
      ]
    },
    {
      "cell_type": "code",
      "source": [
        "#데이터 불러오기\n",
        "\n",
        "#모듈 import\n",
        "import pandas as pd\n",
        "import numpy as np\n",
        "from xgboost import XGBRegressor\n",
        "from sklearn.model_selection import train_test_split\n",
        "from sklearn.metrics import accuracy_score, balanced_accuracy_score, roc_auc_score, make_scorer\n",
        "from sklearn.model_selection import GridSearchCV\n",
        "from sklearn.metrics import confusion_matrix\n",
        "from sklearn.metrics import ConfusionMatrixDisplay\n",
        "import matplotlib.pyplot as plt\n",
        "from datetime import datetime\n",
        "import datetime\n",
        "from sklearn.metrics import mean_squared_error\n",
        "\n",
        "import xgboost as xgb\n",
        "from xgboost import plot_importance\n",
        "import csv\n",
        "\n",
        "\n",
        "#예측해야하는 구간 직전까지의 data불럳오기\n",
        "data = pd.read_csv(\"/content/drive/MyDrive/인천 로그파일.txt\")\n",
        "data.head()"
      ],
      "metadata": {
        "id": "mI-qvMNaoSD1"
      },
      "execution_count": null,
      "outputs": []
    },
    {
      "cell_type": "code",
      "source": [
        "data = []\n",
        "with open('인천 로그파일.txt', 'r') as file:\n",
        "    for line in file:\n",
        "        if 'ALT' in line:\n",
        "            continue\n",
        "        line = line.strip().split(';')\n",
        "        date = line[0]\n",
        "        date = date[12:-9]\n",
        "        hour, minute, second = map(int, date.split(':'))\n",
        "        latitude = float(line[13])\n",
        "        longitude = float(line[14])\n",
        "        if longitude == -117.297160:\n",
        "            continue\n",
        "        speed = float(line[12])\n",
        "        time = hour * 3600 + minute * 60 + second  # 시간, 분, 초를 초로 변환\n",
        "        data.append([time, latitude, longitude, speed])\n",
        "df = pd.DataFrame(data, columns=['Time', 'Latitude', 'Longitude', 'Speed'])\n",
        "df.to_csv('original_data.csv', index=False)\n",
        "print(df)"
      ],
      "metadata": {
        "id": "-Bb23Yb_7YwM"
      },
      "execution_count": null,
      "outputs": []
    },
    {
      "cell_type": "code",
      "source": [
        "#데이터 분리 x : 시간, 위도, 속도, 경도 y : 위도, 경도\n",
        "\n",
        "X =df[['Time', 'Latitude', 'Longitude', 'Speed']]\n",
        "y_latitude = df['Latitude']\n",
        "y_longitude = df['Longitude']\n",
        "\n",
        "# XGBoost 회귀 모델을 초기화\n",
        "model_longitude = xgb.XGBRegressor()\n",
        "model_latitude = xgb.XGBRegressor()"
      ],
      "metadata": {
        "id": "Cp1upFUxo8Zk"
      },
      "execution_count": null,
      "outputs": []
    },
    {
      "cell_type": "code",
      "source": [
        "# 경도 모델 학습\n",
        "model_longitude.fit(X, y_longitude)\n",
        "\n",
        "# 위도 모델 학습\n",
        "model_latitude.fit(X, y_latitude)"
      ],
      "metadata": {
        "id": "X0jGuR6E0aeK"
      },
      "execution_count": null,
      "outputs": []
    },
    {
      "cell_type": "code",
      "source": [
        "# 새로운 데이터프레임 생성을 위한 빈 리스트\n",
        "latitude_predictions = []\n",
        "longitude_predictions = []\n",
        "prediction_times = []\n",
        "latitude_errors = []\n",
        "longitude_errors = []\n",
        "\n",
        "# 예측할 시간 간격 (초)\n",
        "prediction_interval = 60\n",
        "\n",
        "# 예측할 시간 범위 설정\n",
        "start_time = df['Time'].min()\n",
        "end_time = df['Time'].max()\n",
        "\n",
        "# 예측할 시간 리스트 생성\n",
        "prediction_times = np.arange(start_time, end_time, prediction_interval)\n",
        "\n",
        "# 예측 결과를 저장할 데이터프레임 생성\n",
        "predictions_df = pd.DataFrame({'time': prediction_times})\n",
        "\n",
        "for time in prediction_times:\n",
        "     # 'Time' 열을 기준으로 해당 시간과 일치하는 행 추출\n",
        "    target_row = df[df['Time'] == time]\n",
        "\n",
        "     # target_row가 비어있는 경우 예외 처리\n",
        "    if target_row.empty:\n",
        "        continue\n",
        "\n",
        "    # 시간, 위도, 경도, 속도 추출\n",
        "    time = target_row['Time'].values[0]\n",
        "    latitude = target_row['Latitude'].values[0]\n",
        "    longitude = target_row['Longitude'].values[0]\n",
        "    speed = target_row['Speed'].values[0]\n",
        "\n",
        "    # 리스트 생성\n",
        "    data_list = [time, latitude, longitude, speed]\n",
        "    current_time = time + prediction_interval # 현재 시간 계산\n",
        "    # current_time에 대한 위도와 경도 예측값을 얻는 코드 (model_latitude, model_longitude를 사용)\n",
        "    # data_list를 2차원 배열로 변환\n",
        "    input_data = np.array([data_list])\n",
        "\n",
        "    # 예측\n",
        "    latitude_pred = model_latitude.predict(input_data)[0]\n",
        "    longitude_pred = model_longitude.predict(input_data)[0]\n",
        "    print(latitude_pred, longitude_pred)\n",
        "\n",
        "    # 실제값과 예측값의 차이 계산\n",
        "    latitude_error = latitude - latitude_pred\n",
        "    longitude_error = longitude - longitude_pred\n",
        "    print(latitude_error, longitude_error)\n",
        "\n",
        "    latitude_errors.append(latitude_error)\n",
        "    longitude_errors.append(longitude_error)\n",
        "\n",
        "error_df = pd.DataFrame({'Latitude Error': latitude_errors, 'Longitude Error': longitude_errors})\n",
        "print(error_df)\n",
        "# 엑셀 파일로 저장\n",
        "error_df.to_excel('error_data_30.xlsx', index=False)\n",
        "\n",
        "# # 새로운 데이터프레임 생성\n",
        "# predictions_df = pd.DataFrame({'Latitude': latitude_predictions,\n",
        "#                                'Longitude': longitude_predictions,\n",
        "#                                'Time': prediction_times})\n",
        "\n",
        "\n",
        "# predictions_df.to_csv('prediction_result_30.csv', index=False)"
      ],
      "metadata": {
        "id": "4OsoXXnE1_Vc"
      },
      "execution_count": null,
      "outputs": []
    }
  ]
}